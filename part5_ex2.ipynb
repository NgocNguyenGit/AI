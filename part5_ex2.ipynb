{
 "cells": [
  {
   "cell_type": "code",
   "execution_count": 43,
   "metadata": {},
   "outputs": [
    {
     "name": "stdout",
     "output_type": "stream",
     "text": [
      "[[ 0.78593253 -0.85869635 -0.83095993]\n",
      " [-0.90515635  0.85158626 -0.88048058]\n",
      " [-0.84479535 -0.90361363  0.8233559 ]]\n"
     ]
    }
   ],
   "source": [
    "import numpy as np\n",
    "\n",
    "def derivativetanh(x):\n",
    "    return (1 - np.square(np.tanh(x)))\n",
    "\n",
    "x = np.matrix([[0, 0, 1, 0, 0, 1, 0, 0, 1, 0, 0, 1],\n",
    "               [1, 0, 1, 1, 1, 1, 0, 0, 1, 0, 0, 1],\n",
    "               [1, 1, 1, 0, 0, 1, 0, 0, 1, 0, 0, 1]])\n",
    "w = np.matrix([[-0.1064858, 0.0514189, 0.0078354, -0.0529007, 0.0765497, 0.0963165, -0.0217355, 0.0607416, -0.0496326, -0.0101026, -0.0506322, 0.1088590, 0.0281110],\n",
    "               [-0.1159256, -0.1097256, -0.0091379, 0.1181188, -0.0460782, 0.0182802, -0.1178895, 0.0350839, 0.0601015, -0.0063705, 0.0814856, -0.1128607, 0.0277282],\n",
    "               [-0.0528969, 0.0922717, 0.0777041, -0.1085955, -0.0317361, -0.0775950, -0.0395381, 0.0484163, -0.0269966, 0.0426321, -0.0684288, -0.0558140, 0.0124373]])\n",
    "\n",
    "x = np.concatenate((np.ones((3, 1)), x), axis = 1)\n",
    "d = np.matrix([[1, -1, -1],\n",
    "               [-1, 1, -1],\n",
    "               [-1, -1, 1]])\n",
    "l =0.1\n",
    "for i in range(50):\n",
    "    for j in range(np.size(x, 0)):\n",
    "        net = np.matmul(x[j, :], w.T)\n",
    "        dw = np.multiply((d[j, :] - np.tanh(net)), derivativetanh(net))\n",
    "        w = w + l * np.matmul(dw.T, x[j,:])\n",
    "\n",
    "print(np.tanh(x*w.T))\n"
   ]
  },
  {
   "cell_type": "code",
   "execution_count": null,
   "metadata": {},
   "outputs": [],
   "source": []
  }
 ],
 "metadata": {
  "kernelspec": {
   "display_name": "Python 3",
   "language": "python",
   "name": "python3"
  },
  "language_info": {
   "codemirror_mode": {
    "name": "ipython",
    "version": 3
   },
   "file_extension": ".py",
   "mimetype": "text/x-python",
   "name": "python",
   "nbconvert_exporter": "python",
   "pygments_lexer": "ipython3",
   "version": "3.7.0"
  }
 },
 "nbformat": 4,
 "nbformat_minor": 2
}
